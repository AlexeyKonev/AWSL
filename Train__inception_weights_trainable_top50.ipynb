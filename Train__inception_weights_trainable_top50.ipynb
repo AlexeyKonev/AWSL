{
  "cells": [
    {
      "cell_type": "code",
      "execution_count": null,
      "metadata": {
        "colab": {
          "base_uri": "https://localhost:8080/"
        },
        "id": "Bad43QJ6LBpD",
        "outputId": "cf8b63ff-c0cf-47fa-f8e8-8b4f8d2bdeb7"
      },
      "outputs": [
        {
          "output_type": "stream",
          "name": "stdout",
          "text": [
            "Mounted at /content/gdrive\n"
          ]
        }
      ],
      "source": [
        "from google.colab import drive\n",
        "drive.mount('/content/gdrive')"
      ]
    },
    {
      "cell_type": "code",
      "execution_count": null,
      "metadata": {
        "id": "GGqaNvciPtKw"
      },
      "outputs": [],
      "source": [
        "from tensorflow.keras.applications.inception_v3 import InceptionV3\n",
        "from tensorflow.keras.models import Sequential, Model\n",
        "from tensorflow.keras.layers import Input, Dense, Conv2D, MaxPooling2D, Flatten\n",
        "import numpy as np\n",
        "import pandas as pd \n",
        "import os\n",
        "import cv2\n",
        "import matplotlib.pyplot as plt"
      ]
    },
    {
      "cell_type": "code",
      "execution_count": null,
      "metadata": {
        "id": "vGl_fFOMPtHu"
      },
      "outputs": [],
      "source": [
        "from tensorflow.keras.preprocessing.image import ImageDataGenerator \n",
        "img_gen = ImageDataGenerator(rescale= 1/255)"
      ]
    },
    {
      "cell_type": "code",
      "execution_count": null,
      "metadata": {
        "colab": {
          "base_uri": "https://localhost:8080/"
        },
        "id": "tLoL4pfcPtE2",
        "outputId": "de42cc13-1e80-40a3-cc38-04f1fdc5e847"
      },
      "outputs": [
        {
          "output_type": "stream",
          "name": "stdout",
          "text": [
            "Found 45015 images belonging to 50 classes.\n"
          ]
        }
      ],
      "source": [
        "train_data = img_gen.flow_from_directory(\"/content/gdrive/MyDrive/dataset/top50_full_stickman/train/\", \n",
        "                                         class_mode='categorical', \n",
        "                                         batch_size=16, \n",
        "                                         target_size=(224, 224),\n",
        "                                         seed=123\n",
        "                                         )"
      ]
    },
    {
      "cell_type": "code",
      "execution_count": null,
      "metadata": {
        "colab": {
          "base_uri": "https://localhost:8080/"
        },
        "id": "fGcCb9JmPtCO",
        "outputId": "f8df63ae-9106-415a-ed1e-273fe2b398b4"
      },
      "outputs": [
        {
          "output_type": "stream",
          "name": "stdout",
          "text": [
            "Found 3531 images belonging to 50 classes.\n"
          ]
        }
      ],
      "source": [
        "valid_data = img_gen.flow_from_directory(\"/content/gdrive/MyDrive/dataset/top50_full_stickman/val/\", \n",
        "                                         class_mode='categorical',  \n",
        "                                         batch_size=16, \n",
        "                                         target_size=(224, 224),\n",
        "                                         seed=123\n",
        "                                         )"
      ]
    },
    {
      "cell_type": "code",
      "execution_count": null,
      "metadata": {
        "colab": {
          "base_uri": "https://localhost:8080/"
        },
        "id": "7H3aaciAPs_X",
        "outputId": "a56a4a82-f3b0-43bf-c035-3d264d099dc1"
      },
      "outputs": [
        {
          "output_type": "stream",
          "name": "stdout",
          "text": [
            "Found 5082 images belonging to 50 classes.\n"
          ]
        }
      ],
      "source": [
        "test_data = img_gen.flow_from_directory(\"/content/gdrive/MyDrive/dataset/top50_full_stickman/test/\", \n",
        "                                         class_mode='categorical',  \n",
        "                                         batch_size=1, \n",
        "                                         target_size=(224, 224),\n",
        "                                         shuffle = False,  #by default shuffle = True. shuffle = False: sorts the data in alphanumeric order.\n",
        "                                         seed=123\n",
        "                                         )   "
      ]
    },
    {
      "cell_type": "code",
      "execution_count": null,
      "metadata": {
        "colab": {
          "base_uri": "https://localhost:8080/"
        },
        "id": "KQ2cb-h78wgW",
        "outputId": "a9bd31cd-af8a-4c3a-df34-858eb66c1c02"
      },
      "outputs": [
        {
          "output_type": "execute_result",
          "data": {
            "text/plain": [
              "array([ 0,  0,  0, ..., 49, 49, 49], dtype=int32)"
            ]
          },
          "metadata": {},
          "execution_count": 8
        }
      ],
      "source": [
        "test_data.labels"
      ]
    },
    {
      "cell_type": "code",
      "execution_count": null,
      "metadata": {
        "colab": {
          "base_uri": "https://localhost:8080/"
        },
        "id": "aFQcfUzGPs8p",
        "outputId": "43ff7c96-5da1-4b9e-a8d1-e749cb20f74b"
      },
      "outputs": [
        {
          "output_type": "stream",
          "name": "stdout",
          "text": [
            "Downloading data from https://storage.googleapis.com/tensorflow/keras-applications/inception_v3/inception_v3_weights_tf_dim_ordering_tf_kernels_notop.h5\n",
            "87910968/87910968 [==============================] - 0s 0us/step\n"
          ]
        }
      ],
      "source": [
        "icp = InceptionV3(\n",
        "            input_shape=(224, 224, 3),  \n",
        "            include_top=False,   \n",
        "            weights='imagenet' \n",
        "            )\n",
        "\n",
        "for layer in icp.layers:\n",
        "    layer.trainable = True "
      ]
    },
    {
      "cell_type": "code",
      "execution_count": null,
      "metadata": {
        "id": "Y9F0i5mFPs6B"
      },
      "outputs": [],
      "source": [
        "x = Flatten()(icp.output)\n",
        "x = Dense(128, activation = 'relu', name='fc1')(x)  #tried hidden units = 4096, test_accuracy = 0.6\n",
        "x = Dense(128, activation = 'relu', name='fc2')(x)\n",
        "x = Dense(50, activation='softmax', name='predictions')(x)\n",
        "\n",
        "model = Model(inputs = icp.input, outputs = x)"
      ]
    },
    {
      "cell_type": "code",
      "execution_count": null,
      "metadata": {
        "id": "itsKevSCQ7nh"
      },
      "outputs": [],
      "source": [
        "from tensorflow.keras.optimizers import Adam\n",
        "from tensorflow.keras.metrics import TopKCategoricalAccuracy\n",
        "model.compile(optimizer=Adam(learning_rate=0.000002), loss='categorical_crossentropy', metrics=['accuracy', \n",
        "                                                                                                    #'sparse_categorical_accuracy', \n",
        "                                                                                                    TopKCategoricalAccuracy(k=3),\n",
        "                                                                                                    #TopKCategoricalAccuracy(k=5),\n",
        "                                                                                                    ])"
      ]
    },
    {
      "cell_type": "code",
      "execution_count": null,
      "metadata": {
        "colab": {
          "base_uri": "https://localhost:8080/"
        },
        "id": "7mGqIoouQ_Ke",
        "outputId": "d3ed1ea7-af5d-44d8-f6f5-ab6179e4e105"
      },
      "outputs": [
        {
          "output_type": "stream",
          "name": "stdout",
          "text": [
            "Epoch 1/20\n",
            "2814/2814 [==============================] - 8921s 3s/step - loss: 3.3159 - accuracy: 0.1817 - top_k_categorical_accuracy: 0.3260 - val_loss: 3.2465 - val_accuracy: 0.1677 - val_top_k_categorical_accuracy: 0.3381\n",
            "Epoch 2/20\n",
            "2814/2814 [==============================] - 395s 140ms/step - loss: 2.1069 - accuracy: 0.4957 - top_k_categorical_accuracy: 0.6723 - val_loss: 2.9372 - val_accuracy: 0.2583 - val_top_k_categorical_accuracy: 0.4642\n",
            "Epoch 3/20\n",
            "2814/2814 [==============================] - 402s 143ms/step - loss: 1.3841 - accuracy: 0.6746 - top_k_categorical_accuracy: 0.8153 - val_loss: 2.7869 - val_accuracy: 0.3161 - val_top_k_categorical_accuracy: 0.5217\n",
            "Epoch 4/20\n",
            "2814/2814 [==============================] - 402s 143ms/step - loss: 0.9663 - accuracy: 0.7722 - top_k_categorical_accuracy: 0.8826 - val_loss: 2.7835 - val_accuracy: 0.3277 - val_top_k_categorical_accuracy: 0.5463\n",
            "Epoch 5/20\n",
            "2814/2814 [==============================] - 399s 142ms/step - loss: 0.7007 - accuracy: 0.8344 - top_k_categorical_accuracy: 0.9217 - val_loss: 2.8491 - val_accuracy: 0.3458 - val_top_k_categorical_accuracy: 0.5511\n",
            "Epoch 6/20\n",
            "2814/2814 [==============================] - 400s 142ms/step - loss: 0.5262 - accuracy: 0.8768 - top_k_categorical_accuracy: 0.9462 - val_loss: 2.9006 - val_accuracy: 0.3523 - val_top_k_categorical_accuracy: 0.5681\n",
            "Epoch 7/20\n",
            "2814/2814 [==============================] - 399s 142ms/step - loss: 0.3963 - accuracy: 0.9069 - top_k_categorical_accuracy: 0.9651 - val_loss: 3.0140 - val_accuracy: 0.3563 - val_top_k_categorical_accuracy: 0.5568\n",
            "Epoch 8/20\n",
            "2814/2814 [==============================] - 399s 142ms/step - loss: 0.2983 - accuracy: 0.9326 - top_k_categorical_accuracy: 0.9770 - val_loss: 3.0666 - val_accuracy: 0.3710 - val_top_k_categorical_accuracy: 0.5647\n",
            "Epoch 9/20\n",
            "2814/2814 [==============================] - 399s 142ms/step - loss: 0.2237 - accuracy: 0.9509 - top_k_categorical_accuracy: 0.9861 - val_loss: 3.1974 - val_accuracy: 0.3645 - val_top_k_categorical_accuracy: 0.5568\n"
          ]
        }
      ],
      "source": [
        "from tensorflow.keras.callbacks import EarlyStopping\n",
        "\n",
        "callback = EarlyStopping(monitor='val_loss', patience=5, restore_best_weights=True)\n",
        "\n",
        "history = model.fit(train_data, \n",
        "          epochs=20, \n",
        "          # batch_size=16, \n",
        "          validation_data=valid_data, \n",
        "          callbacks=[callback],\n",
        "          steps_per_epoch=len(train_data), \n",
        "          validation_steps=len(valid_data)\n",
        "          )"
      ]
    },
    {
      "cell_type": "code",
      "execution_count": null,
      "metadata": {
        "id": "DpZkHOdJQjxL",
        "colab": {
          "base_uri": "https://localhost:8080/"
        },
        "outputId": "e984ae3b-263b-488f-9bef-b57891212b3c"
      },
      "outputs": [
        {
          "output_type": "stream",
          "name": "stderr",
          "text": [
            "WARNING:absl:Found untraced functions such as _jit_compiled_convolution_op, _jit_compiled_convolution_op, _jit_compiled_convolution_op, _jit_compiled_convolution_op, _jit_compiled_convolution_op while saving (showing 5 of 94). These functions will not be directly callable after loading.\n"
          ]
        }
      ],
      "source": [
        "import pickle\n",
        "filename = '/content/gdrive/MyDrive/dataset/inception_stickman_50.pkl'\n",
        "outfile = open(filename,'wb')\n",
        "\n",
        "pickle.dump(model,outfile)\n",
        "outfile.close()"
      ]
    },
    {
      "cell_type": "code",
      "source": [],
      "metadata": {
        "id": "0lfZhRszOZjh"
      },
      "execution_count": null,
      "outputs": []
    },
    {
      "cell_type": "code",
      "execution_count": null,
      "metadata": {
        "id": "QVlU7JnJRHPQ",
        "colab": {
          "base_uri": "https://localhost:8080/"
        },
        "outputId": "354aaa42-6baa-409b-ea5a-14f5a4048806"
      },
      "outputs": [
        {
          "output_type": "stream",
          "name": "stdout",
          "text": [
            "5082/5082 [==============================] - 1554s 306ms/step - loss: 2.7665 - accuracy: 0.3650 - top_k_categorical_accuracy: 0.5368\n"
          ]
        }
      ],
      "source": [
        "result = model.evaluate(test_data)"
      ]
    },
    {
      "cell_type": "code",
      "execution_count": null,
      "metadata": {
        "id": "1a0XCH7wA0af",
        "colab": {
          "base_uri": "https://localhost:8080/"
        },
        "outputId": "1d54d905-374b-4c26-f52b-3dfdfa9b54dd"
      },
      "outputs": [
        {
          "output_type": "execute_result",
          "data": {
            "text/plain": [
              "[2.7665059566497803, 0.3650137782096863, 0.536796510219574]"
            ]
          },
          "metadata": {},
          "execution_count": 14
        }
      ],
      "source": [
        "result"
      ]
    }
  ],
  "metadata": {
    "accelerator": "GPU",
    "colab": {
      "provenance": []
    },
    "gpuClass": "standard",
    "kernelspec": {
      "display_name": "Python 3",
      "name": "python3"
    },
    "language_info": {
      "name": "python"
    }
  },
  "nbformat": 4,
  "nbformat_minor": 0
}